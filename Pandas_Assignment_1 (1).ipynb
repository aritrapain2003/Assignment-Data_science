{
 "cells": [
  {
   "cell_type": "code",
   "execution_count": 1,
   "id": "4f7a30b6-8962-4f21-bd2a-9c41a32f1090",
   "metadata": {},
   "outputs": [
    {
     "name": "stdout",
     "output_type": "stream",
     "text": [
      "0     4\n",
      "1     8\n",
      "2    15\n",
      "3    16\n",
      "4    23\n",
      "5    42\n",
      "dtype: int64\n"
     ]
    }
   ],
   "source": [
    "# Q1. Create a Pandas Series that contains the following data: 4, 8, 15, 16, 23, and 42. Then, print the series.\n",
    "\n",
    "import pandas as pd\n",
    "\n",
    "data = [4, 8, 15, 16, 23, 42]\n",
    "series = pd.Series(data)\n",
    "\n",
    "print(series)\n",
    "\n"
   ]
  },
  {
   "cell_type": "code",
   "execution_count": 2,
   "id": "1a8e4acf-8b61-423b-aed1-6aeb52d4efaa",
   "metadata": {},
   "outputs": [
    {
     "name": "stdout",
     "output_type": "stream",
     "text": [
      "0     1\n",
      "1     2\n",
      "2     3\n",
      "3     4\n",
      "4     5\n",
      "5     6\n",
      "6     7\n",
      "7     8\n",
      "8     9\n",
      "9    10\n",
      "dtype: int64\n"
     ]
    }
   ],
   "source": [
    "# Q2. Create a variable of list type containing 10 elements in it, and apply pandas.Series function on the\n",
    "# variable print it.\n",
    "\n",
    "\n",
    "import pandas as pd\n",
    "\n",
    "my_list = [1, 2, 3, 4, 5, 6, 7, 8, 9, 10]\n",
    "series = pd.Series(my_list)\n",
    "\n",
    "print(series)\n",
    "\n",
    "\n"
   ]
  },
  {
   "cell_type": "code",
   "execution_count": 3,
   "id": "05b885e6-d04a-4891-a7c0-88bad0317bd1",
   "metadata": {},
   "outputs": [
    {
     "name": "stdout",
     "output_type": "stream",
     "text": [
      "     Name  Age  Gender\n",
      "0   Alice   25  Female\n",
      "1     Bob   30    Male\n",
      "2  Claire   27  Female\n"
     ]
    }
   ],
   "source": [
    "# Q3. Create a Pandas DataFrame that contains the following data:\n",
    "\n",
    "\n",
    "# Q3. Create a Pandas DataFrame that contains the following data:\n",
    "\n",
    "\n",
    "# Name     |  Age   |    Gender\n",
    "# Alice    |  25    |    Female\n",
    "# Bob      |  30   |    Male\n",
    "# Claire   |  27   |    Female\n",
    "# then print the data frame\n",
    "\n",
    "\n",
    "import pandas as pd\n",
    "\n",
    "data = {\n",
    "    'Name': ['Alice', 'Bob', 'Claire'],\n",
    "    'Age': [25, 30, 27],\n",
    "    'Gender': ['Female', 'Male', 'Female']\n",
    "}\n",
    "\n",
    "df = pd.DataFrame(data)\n",
    "\n",
    "print(df)\n"
   ]
  },
  {
   "cell_type": "code",
   "execution_count": 5,
   "id": "1f5e0633-da95-4530-a0a9-a3e2ef482c7c",
   "metadata": {},
   "outputs": [
    {
     "name": "stdout",
     "output_type": "stream",
     "text": [
      "DataFrame:\n",
      "     Name  Age  Gender\n",
      "0   Alice   25  Female\n",
      "1     Bob   30    Male\n",
      "2  Claire   27  Female\n",
      "\n",
      "Series:\n",
      "0    25\n",
      "1    30\n",
      "2    27\n",
      "dtype: int64\n"
     ]
    }
   ],
   "source": [
    "# Q4. What is ‘DataFrame’ in pandas and how is it different from pandas.series? Explain with an example.\n",
    "\n",
    "\n",
    "\n",
    "# In pandas, a DataFrame is a two-dimensional labeled data structure that consists of columns and rows. It can be thought of as a table or spreadsheet-like data structure where each column can have a different data type (e.g., numeric, string, boolean) and rows are labeled with an index. DataFrames provide a convenient way to manipulate and analyze structured data.\n",
    "\n",
    "# On the other hand, a Series is a one-dimensional labeled array-like object in pandas. It is similar to a column in a DataFrame or a single column extracted from a DataFrame. Each element in a Series has an associated label called the index.\n",
    "\n",
    "# Here's an example to illustrate the difference between a DataFrame and a Series:\n",
    "\n",
    "# ```python\n",
    "import pandas as pd\n",
    "\n",
    "# Creating a DataFrame\n",
    "data = {\n",
    "    'Name': ['Alice', 'Bob', 'Claire'],\n",
    "    'Age': [25, 30, 27],\n",
    "    'Gender': ['Female', 'Male', 'Female']\n",
    "}\n",
    "df = pd.DataFrame(data)\n",
    "\n",
    "# Creating a Series\n",
    "ages = pd.Series([25, 30, 27])\n",
    "\n",
    "print(\"DataFrame:\")\n",
    "print(df)\n",
    "print()\n",
    "print(\"Series:\")\n",
    "print(ages)\n",
    "\n",
    "\n",
    "\n",
    "\n",
    "# In the example above, we create a DataFrame `df` with three columns: 'Name', 'Age', and 'Gender'. Each column can hold different data types. The DataFrame has an index (0, 1, 2) that labels the rows.\n",
    "\n",
    "# We also create a Series `ages` which only contains the 'Age' column from the DataFrame. The Series has only one column and the elements are associated with their respective index labels (0, 1, 2).\n",
    "\n",
    "# So, the main difference is that a DataFrame is a two-dimensional structure consisting of multiple columns and rows, while a Series is a one-dimensional structure representing a single column with associated index labels."
   ]
  },
  {
   "cell_type": "code",
   "execution_count": 9,
   "id": "04c3a286-ee54-444f-a6bf-c3c3a07f8023",
   "metadata": {},
   "outputs": [
    {
     "name": "stdout",
     "output_type": "stream",
     "text": [
      "<class 'pandas.core.frame.DataFrame'>\n",
      "RangeIndex: 3 entries, 0 to 2\n",
      "Data columns (total 3 columns):\n",
      " #   Column  Non-Null Count  Dtype \n",
      "---  ------  --------------  ----- \n",
      " 0   Name    3 non-null      object\n",
      " 1   Age     3 non-null      int64 \n",
      " 2   Gender  3 non-null      object\n",
      "dtypes: int64(1), object(2)\n",
      "memory usage: 200.0+ bytes\n"
     ]
    },
    {
     "data": {
      "text/html": [
       "<div>\n",
       "<style scoped>\n",
       "    .dataframe tbody tr th:only-of-type {\n",
       "        vertical-align: middle;\n",
       "    }\n",
       "\n",
       "    .dataframe tbody tr th {\n",
       "        vertical-align: top;\n",
       "    }\n",
       "\n",
       "    .dataframe thead th {\n",
       "        text-align: right;\n",
       "    }\n",
       "</style>\n",
       "<table border=\"1\" class=\"dataframe\">\n",
       "  <thead>\n",
       "    <tr style=\"text-align: right;\">\n",
       "      <th></th>\n",
       "      <th>Name</th>\n",
       "      <th>Age</th>\n",
       "    </tr>\n",
       "  </thead>\n",
       "  <tbody>\n",
       "    <tr>\n",
       "      <th>0</th>\n",
       "      <td>Alice</td>\n",
       "      <td>25</td>\n",
       "    </tr>\n",
       "    <tr>\n",
       "      <th>1</th>\n",
       "      <td>Bob</td>\n",
       "      <td>30</td>\n",
       "    </tr>\n",
       "    <tr>\n",
       "      <th>2</th>\n",
       "      <td>Claire</td>\n",
       "      <td>27</td>\n",
       "    </tr>\n",
       "  </tbody>\n",
       "</table>\n",
       "</div>"
      ],
      "text/plain": [
       "     Name  Age\n",
       "0   Alice   25\n",
       "1     Bob   30\n",
       "2  Claire   27"
      ]
     },
     "execution_count": 9,
     "metadata": {},
     "output_type": "execute_result"
    }
   ],
   "source": [
    "# Q5. What are some common functions you can use to manipulate data in a Pandas DataFrame? Can\n",
    "# you give an example of when you might use one of these functions?\n",
    "\n",
    "\n",
    "\n",
    "# Pandas provides a wide range of functions to manipulate data in a DataFrame. Here are some common functions:\n",
    "\n",
    "# 1. `head()`: Returns the first n rows of the DataFrame. It is useful for quickly inspecting the data.\n",
    "   \n",
    "df.head(5)  # Returns the first 5 rows of the DataFrame\n",
    "   \n",
    "\n",
    "# 2. `tail()`: Returns the last n rows of the DataFrame. It is useful for quickly inspecting the end of the data.\n",
    "   \n",
    "df.tail(3)  # Returns the last 3 rows of the DataFrame\n",
    "   \n",
    "\n",
    "# 3. `info()`: Provides a summary of the DataFrame, including the column names, data types, and memory usage.\n",
    "   \n",
    "df.info()  # Displays information about the DataFrame\n",
    "   \n",
    "\n",
    "# 4. `describe()`: Generates descriptive statistics of the numerical columns in the DataFrame, such as count, mean, standard deviation, minimum, and maximum.\n",
    "   \n",
    "df.describe()  # Generates summary statistics of the DataFrame\n",
    "   \n",
    "\n",
    "# 5. `value_counts()`: Returns a Series with the counts of unique values in a column. It is useful for understanding the distribution of categorical data.\n",
    "   \n",
    "df['Gender'].value_counts()  # Returns the counts of unique values in the 'Gender' column\n",
    "   \n",
    "\n",
    "# 6. `sort_values()`: Sorts the DataFrame by one or more columns.\n",
    "   \n",
    "df.sort_values('Age')  # Sorts the DataFrame by the 'Age' column in ascending order\n",
    "   \n",
    "\n",
    "# 7. `groupby()`: Groups the DataFrame by one or more columns and allows you to perform aggregate functions on the groups.\n",
    "   \n",
    "df.groupby('Gender')['Age'].mean()  # Calculates the average age for each gender\n",
    "   \n",
    "\n",
    "# 8. `drop()`: Removes specified rows or columns from the DataFrame.\n",
    "   \n",
    "df.drop('Gender', axis=1)  # Drops the 'Gender' column from the DataFrame\n",
    "   \n",
    "\n",
    "# These are just a few examples of the functions available in pandas for manipulating data in a DataFrame. The choice of function depends on the specific data manipulation task you want to perform, such as data exploration, cleaning, filtering, aggregating, or transforming the data."
   ]
  },
  {
   "cell_type": "code",
   "execution_count": null,
   "id": "68461017-db0d-443b-9c61-891ba770a531",
   "metadata": {},
   "outputs": [],
   "source": [
    "# Q6. Which of the following is mutable in nature Series, DataFrame, Panel?\n",
    "\n",
    "\n",
    "\n",
    "# In pandas, both Series and DataFrame are mutable in nature, meaning they can be modified after they are created. However, Panel is no longer recommended for most use cases and has been deprecated since pandas version 0.20.0. Panels were three-dimensional data structures, and they were mutable as well. \n",
    "\n",
    "# To summarize:\n",
    "# - Series: Mutable\n",
    "# - DataFrame: Mutable\n",
    "# - Panel: Deprecated (Not recommended for use)\n",
    "\n",
    "# It's worth noting that while Series and DataFrame are mutable, it's generally recommended to avoid modifying them in-place and instead perform operations that create new Series/DataFrame objects. This approach helps maintain data integrity and avoids unexpected side effects."
   ]
  },
  {
   "cell_type": "code",
   "execution_count": 10,
   "id": "15263895-3a97-41b1-98ff-c5ae2c91b4e7",
   "metadata": {},
   "outputs": [
    {
     "name": "stdout",
     "output_type": "stream",
     "text": [
      "     Name  Age  Gender\n",
      "0   Alice   25  Female\n",
      "1     Bob   30    Male\n",
      "2  Claire   27  Female\n"
     ]
    }
   ],
   "source": [
    "# Q7. Create a DataFrame using multiple Series. Explain with an example.\n",
    "\n",
    "\n",
    "import pandas as pd\n",
    "\n",
    "# Create the Series objects\n",
    "name_series = pd.Series(['Alice', 'Bob', 'Claire'])\n",
    "age_series = pd.Series([25, 30, 27])\n",
    "gender_series = pd.Series(['Female', 'Male', 'Female'])\n",
    "\n",
    "# Create the DataFrame using the Series\n",
    "data = {\n",
    "    'Name': name_series,\n",
    "    'Age': age_series,\n",
    "    'Gender': gender_series\n",
    "}\n",
    "\n",
    "df = pd.DataFrame(data)\n",
    "\n",
    "print(df)\n"
   ]
  },
  {
   "cell_type": "code",
   "execution_count": null,
   "id": "0dc5c556-7ea1-4f28-a4da-e937615980fc",
   "metadata": {},
   "outputs": [],
   "source": []
  }
 ],
 "metadata": {
  "kernelspec": {
   "display_name": "Python 3 (ipykernel)",
   "language": "python",
   "name": "python3"
  },
  "language_info": {
   "codemirror_mode": {
    "name": "ipython",
    "version": 3
   },
   "file_extension": ".py",
   "mimetype": "text/x-python",
   "name": "python",
   "nbconvert_exporter": "python",
   "pygments_lexer": "ipython3",
   "version": "3.10.8"
  }
 },
 "nbformat": 4,
 "nbformat_minor": 5
}
