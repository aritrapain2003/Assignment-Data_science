{
 "cells": [
  {
   "cell_type": "code",
   "execution_count": 1,
   "id": "947e9ae3-c3c9-4ba9-a1a0-58e248b670d3",
   "metadata": {},
   "outputs": [
    {
     "name": "stdout",
     "output_type": "stream",
     "text": [
      "Car\n",
      "200\n",
      "60\n",
      "Bike\n",
      "80\n",
      "30\n"
     ]
    }
   ],
   "source": [
    "# Q1, Create a vehicle class with an init method having instance variables as name_of_vehicle, max_speed\n",
    "# and average_of_vehicle.\n",
    "class Vehicle:\n",
    "    def __init__(self, name_of_vehicle, max_speed, average_speed):\n",
    "        self.name_of_vehicle = name_of_vehicle\n",
    "        self.max_speed = max_speed\n",
    "        self.average_speed = average_speed\n",
    "# Creating instances of Vehicle\n",
    "car = Vehicle(\"Car\", 200, 60)\n",
    "bike = Vehicle(\"Bike\", 80, 30)\n",
    "\n",
    "# Accessing attributes of Vehicle instances\n",
    "print(car.name_of_vehicle)       # Output: Car\n",
    "print(car.max_speed)             # Output: 200\n",
    "print(car.average_speed)         # Output: 60\n",
    "\n",
    "print(bike.name_of_vehicle)      # Output: Bike\n",
    "print(bike.max_speed)            # Output: 80\n",
    "print(bike.average_speed)        # Output: 30\n"
   ]
  },
  {
   "cell_type": "code",
   "execution_count": 2,
   "id": "013fb4e9-9fdf-4150-be16-cc62ed68f591",
   "metadata": {},
   "outputs": [
    {
     "name": "stdout",
     "output_type": "stream",
     "text": [
      "Car - Seating Capacity: 5\n"
     ]
    }
   ],
   "source": [
    "# Q2. Create a child class car from the vehicle class created in Que 1, which will inherit the vehicle class.\n",
    "# Create a method named seating_capacity which takes capacity as an argument and returns the name of\n",
    "# the vehicle and its seating capacity.\n",
    "\n",
    "class Car(Vehicle):\n",
    "    def seating_capacity(self, capacity):\n",
    "        return f\"{self.name_of_vehicle} - Seating Capacity: {capacity}\"\n",
    "car = Car(\"Car\", 200, 60)\n",
    "print(car.seating_capacity(5))  # Output: Car - Seating Capacity: 5\n",
    "\n"
   ]
  },
  {
   "cell_type": "code",
   "execution_count": 3,
   "id": "a7f14b6c-3990-4ad5-9858-03b1e48f0906",
   "metadata": {},
   "outputs": [
    {
     "name": "stdout",
     "output_type": "stream",
     "text": [
      "My Flying Car is driving.\n",
      "Flying!\n"
     ]
    }
   ],
   "source": [
    "# # Q3. What is multiple inheritance? Write a python code to demonstrate multiple inheritance.\n",
    "\n",
    "\n",
    "# Multiple inheritance is a feature in object-oriented programming languages where a class can inherit attributes and methods from multiple parent classes. This means that a child class can inherit and combine the characteristics of more than one parent class.\n",
    "\n",
    "class Vehicle:\n",
    "    def __init__(self, name):\n",
    "        self.name = name\n",
    "\n",
    "    def drive(self):\n",
    "        print(f\"{self.name} is driving.\")\n",
    "\n",
    "class Flyable:\n",
    "    def fly(self):\n",
    "        print(\"Flying!\")\n",
    "\n",
    "class Car(Vehicle):\n",
    "    def __init__(self, name):\n",
    "        super().__init__(name)\n",
    "\n",
    "class FlyingCar(Car, Flyable):\n",
    "    def __init__(self, name):\n",
    "        super().__init__(name)\n",
    "\n",
    "# Create an instance of FlyingCar\n",
    "my_car = FlyingCar(\"My Flying Car\")\n",
    "\n",
    "# Access inherited methods\n",
    "my_car.drive()  # Output: My Flying Car is driving.\n",
    "my_car.fly()    # Output: Flying!\n"
   ]
  },
  {
   "cell_type": "code",
   "execution_count": 4,
   "id": "1bf26031-c6da-4ed0-9794-fcb75ef4d0e4",
   "metadata": {},
   "outputs": [
    {
     "name": "stdout",
     "output_type": "stream",
     "text": [
      "John\n",
      "Alice\n"
     ]
    }
   ],
   "source": [
    "# # Q4. What are getter and setter in python? Create a class and create a getter and a setter method in this\n",
    "# # class.\n",
    "\n",
    "# In Python, getter and setter methods are used to control the access and modification of class attributes. They provide a way to retrieve (get) and modify (set) the values of private or protected attributes, encapsulating the internal state of the class. The getter method retrieves the value of an attribute, while the setter method sets a new value for that attribute.\n",
    "\n",
    "\n",
    "class Person:\n",
    "    def __init__(self, name):\n",
    "        self.__name = name\n",
    "\n",
    "    def get_name(self):\n",
    "        return self.__name\n",
    "\n",
    "    def set_name(self, new_name):\n",
    "        self.__name = new_name\n",
    "\n",
    "person = Person(\"John\")\n",
    "\n",
    "# Using the getter method to retrieve the value of the name attribute\n",
    "print(person.get_name())  # Output: John\n",
    "\n",
    "# Using the setter method to modify the value of the name attribute\n",
    "person.set_name(\"Alice\")\n",
    "print(person.get_name())  # Output: Alice\n",
    "\n",
    "        "
   ]
  },
  {
   "cell_type": "code",
   "execution_count": null,
   "id": "fabc4ddb-6ac4-440f-a369-a3af97c8cf61",
   "metadata": {},
   "outputs": [],
   "source": []
  }
 ],
 "metadata": {
  "kernelspec": {
   "display_name": "Python 3 (ipykernel)",
   "language": "python",
   "name": "python3"
  },
  "language_info": {
   "codemirror_mode": {
    "name": "ipython",
    "version": 3
   },
   "file_extension": ".py",
   "mimetype": "text/x-python",
   "name": "python",
   "nbconvert_exporter": "python",
   "pygments_lexer": "ipython3",
   "version": "3.10.8"
  }
 },
 "nbformat": 4,
 "nbformat_minor": 5
}
