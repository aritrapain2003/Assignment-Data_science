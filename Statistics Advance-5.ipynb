{
 "cells": [
  {
   "cell_type": "code",
   "execution_count": 1,
   "id": "188c742b-00a3-4516-adeb-e41f61db5b39",
   "metadata": {},
   "outputs": [
    {
     "name": "stdout",
     "output_type": "stream",
     "text": [
      "95% Confidence Interval: (48.210805856282846, 51.789194143717154)\n"
     ]
    }
   ],
   "source": [
    "# Q1. Calculate the 95% confidence interval for a sample of data with a mean of 50 and a standard deviation\n",
    "# of 5 using Python. Interpret the results.\n",
    "\n",
    "\n",
    "\n",
    "# To calculate the 95% confidence interval for a sample mean using Python, you can use the `scipy.stats` module. Here's how you can do it:\n",
    "\n",
    "\n",
    "import scipy.stats as stats\n",
    "\n",
    "sample_mean = 50\n",
    "sample_std_dev = 5\n",
    "confidence_level = 0.95\n",
    "sample_size = 30  # You need to provide the sample size\n",
    "\n",
    "margin_of_error = stats.norm.ppf((1 + confidence_level) / 2) * (sample_std_dev / (sample_size ** 0.5))\n",
    "confidence_interval = (sample_mean - margin_of_error, sample_mean + margin_of_error)\n",
    "\n",
    "print(\"95% Confidence Interval:\", confidence_interval)\n",
    "\n",
    "\n",
    "# Replace `sample_size` with the actual size of your sample.\n",
    "\n",
    "# Interpretation of the results:\n",
    "# The 95% confidence interval for the sample mean of 50, with a standard deviation of 5 and a sample size of your choice, would be a range of values within which we are 95% confident that the true population mean lies. This means that if you were to take many samples and calculate their confidence intervals, approximately 95% of those intervals would contain the true population mean. In simpler terms, you can be reasonably confident that the population mean falls between the lower and upper bounds of the calculated interval, given the provided sample data."
   ]
  },
  {
   "cell_type": "code",
   "execution_count": 2,
   "id": "cec5a6b2-d72c-4627-8347-3160eb1a6967",
   "metadata": {},
   "outputs": [
    {
     "name": "stdout",
     "output_type": "stream",
     "text": [
      "Fail to reject the null hypothesis. The distribution of colors matches the expected distribution.\n",
      "Chi-Square Statistic: 15.1\n",
      "P-value: nan\n"
     ]
    }
   ],
   "source": [
    "# Q2. Conduct a chi-square goodness of fit test to determine if the distribution of colors of M&Ms in a bag\n",
    "# matches the expected distribution of 20% blue, 20% orange, 20% green, 10% yellow, 10% red, and 20%\n",
    "# brown. Use Python to perform the test with a significance level of 0.05.\n",
    "\n",
    "\n",
    "\n",
    "\n",
    "\n",
    "import scipy.stats as stats\n",
    "import numpy as np\n",
    "\n",
    "# Observed frequencies of colors in the bag\n",
    "observed_frequencies = np.array([10, 15, 20, 12, 10, 33])  # Replace with your observed data\n",
    "\n",
    "# Expected distribution of colors\n",
    "expected_distribution = np.array([0.20, 0.20, 0.20, 0.10, 0.10, 0.20])\n",
    "\n",
    "# Calculate the expected frequencies based on the total number of observations\n",
    "total_observations = np.sum(observed_frequencies)\n",
    "expected_frequencies = expected_distribution * total_observations\n",
    "\n",
    "# Perform the chi-square test\n",
    "chi_square_statistic, p_value = stats.chisquare(observed_frequencies, expected_frequencies, ddof=len(expected_distribution) - 1)\n",
    "\n",
    "# Set the significance level\n",
    "alpha = 0.05\n",
    "\n",
    "# Compare p-value to significance level\n",
    "if p_value < alpha:\n",
    "    print(\"Reject the null hypothesis. The distribution of colors does not match the expected distribution.\")\n",
    "else:\n",
    "    print(\"Fail to reject the null hypothesis. The distribution of colors matches the expected distribution.\")\n",
    "    \n",
    "print(\"Chi-Square Statistic:\", chi_square_statistic)\n",
    "print(\"P-value:\", p_value)\n"
   ]
  },
  {
   "cell_type": "code",
   "execution_count": 5,
   "id": "e5343c67-ac97-47d6-af58-b2306aad35cd",
   "metadata": {},
   "outputs": [
    {
     "name": "stdout",
     "output_type": "stream",
     "text": [
      "Fail to reject the null hypothesis. There is no significant association between the groups and outcomes.\n",
      "Chi-Square Statistic: 5.833333333333334\n",
      "P-value: 0.05411376622282158\n"
     ]
    }
   ],
   "source": [
    "# Q3. Use Python to calculate the chi-square statistic and p-value for a contingency table with the following\n",
    "# data:\n",
    "\n",
    "\n",
    "\n",
    "# Group A   Group B\n",
    "\n",
    "# Outcome 1 20      15\n",
    "# Outcome 2 10      25\n",
    "# Outcome 3 15      20\n",
    "\n",
    "\n",
    "# Interpret the results of the test.\n",
    "\n",
    "\n",
    "\n",
    "\n",
    "import scipy.stats as stats\n",
    "import numpy as np\n",
    "\n",
    "# Define the contingency table\n",
    "observed_data = np.array([[20, 15],\n",
    "                          [10, 25],\n",
    "                          [15, 20]])\n",
    "\n",
    "# Perform the chi-square test\n",
    "chi_square_statistic, p_value, _, _ = stats.chi2_contingency(observed_data)\n",
    "\n",
    "# Set the significance level\n",
    "alpha = 0.05\n",
    "\n",
    "# Compare p-value to significance level\n",
    "if p_value < alpha:\n",
    "    print(\"Reject the null hypothesis. There is a significant association between the groups and outcomes.\")\n",
    "else:\n",
    "    print(\"Fail to reject the null hypothesis. There is no significant association between the groups and outcomes.\")\n",
    "    \n",
    "print(\"Chi-Square Statistic:\", chi_square_statistic)\n",
    "print(\"P-value:\", p_value)\n",
    "\n",
    "\n",
    "\n",
    "# Interpretation of the results:\n",
    "# The chi-square test is used to determine whether there is a significant association between two categorical variables. In this case, we have two groups (Group A and Group B) and three outcomes (Outcome 1, Outcome 2, and Outcome 3).\n",
    "\n",
    "# The p-value is used to assess the evidence against the null hypothesis. If the p-value is less than the chosen significance level (0.05 in this case), we reject the null hypothesis, indicating that there is a significant association between the groups and outcomes. If the p-value is greater than the significance level, we fail to reject the null hypothesis, suggesting that there is no significant association.\n",
    "\n",
    "# In the context of your data, if the p-value is less than 0.05, you would interpret it as evidence that the outcomes are not equally distributed across the two groups, and there is a significant association between the groups and the outcomes. If the p-value is greater than 0.05, you would interpret it as not having enough evidence to conclude that there is a significant association.\n",
    "\n",
    "\n",
    "\n",
    "\n",
    "\n",
    "\n"
   ]
  },
  {
   "cell_type": "code",
   "execution_count": 6,
   "id": "67f81703-7a4f-4166-a599-fcba66dad5cb",
   "metadata": {},
   "outputs": [
    {
     "name": "stdout",
     "output_type": "stream",
     "text": [
      "95% Confidence Interval: (0.09151638887130707, 0.1484836111286929)\n"
     ]
    }
   ],
   "source": [
    "# Q4. A study of the prevalence of smoking in a population of 500 individuals found that 60 individuals\n",
    "# smoked. Use Python to calculate the 95% confidence interval for the true proportion of individuals in the\n",
    "# population who smoke\n",
    "\n",
    "\n",
    "\n",
    "\n",
    "# To calculate the 95% confidence interval for the true proportion of individuals in the population who smoke, you can use the formula for the confidence interval of a proportion. In this case, the sample proportion is 60/500, and the sample size is 500. Here's how you can do it using Python:\n",
    "\n",
    "\n",
    "import scipy.stats as stats\n",
    "import numpy as np\n",
    "\n",
    "# Given data\n",
    "sample_size = 500\n",
    "sample_proportion = 60 / sample_size\n",
    "confidence_level = 0.95\n",
    "\n",
    "# Calculate the standard error\n",
    "standard_error = np.sqrt((sample_proportion * (1 - sample_proportion)) / sample_size)\n",
    "\n",
    "# Calculate the margin of error\n",
    "margin_of_error = stats.norm.ppf((1 + confidence_level) / 2) * standard_error\n",
    "\n",
    "# Calculate the confidence interval\n",
    "confidence_interval_lower = sample_proportion - margin_of_error\n",
    "confidence_interval_upper = sample_proportion + margin_of_error\n",
    "\n",
    "print(\"95% Confidence Interval:\", (confidence_interval_lower, confidence_interval_upper))\n",
    "\n",
    "\n",
    "# Interpretation of the results:\n",
    "# The 95% confidence interval for the true proportion of individuals in the population who smoke would be interpreted as follows: We are 95% confident that the true proportion of smokers in the population lies within the calculated interval. This means that if you were to repeat the study many times and calculate confidence intervals for each sample, approximately 95% of those intervals would contain the true population proportion. In simpler terms, you can be reasonably confident that the proportion of smokers falls between the lower and upper bounds of the calculated interval, given the provided sample data."
   ]
  },
  {
   "cell_type": "code",
   "execution_count": 7,
   "id": "f96ec4aa-c88c-4be8-8c0a-1bd58b68e687",
   "metadata": {},
   "outputs": [
    {
     "name": "stdout",
     "output_type": "stream",
     "text": [
      "90% Confidence Interval: (71.27739919800369, 78.72260080199631)\n"
     ]
    }
   ],
   "source": [
    "# Q5. Calculate the 90% confidence interval for a sample of data with a mean of 75 and a standard deviation\n",
    "# of 12 using Python. Interpret the results.\n",
    "\n",
    "\n",
    "\n",
    "import scipy.stats as stats\n",
    "\n",
    "sample_mean = 75\n",
    "sample_std_dev = 12\n",
    "confidence_level = 0.90\n",
    "sample_size = 30  # You need to provide the sample size\n",
    "\n",
    "margin_of_error = stats.t.ppf((1 + confidence_level) / 2, df=sample_size - 1) * (sample_std_dev / (sample_size ** 0.5))\n",
    "confidence_interval = (sample_mean - margin_of_error, sample_mean + margin_of_error)\n",
    "\n",
    "print(\"90% Confidence Interval:\", confidence_interval)\n",
    "\n",
    "\n",
    "# Interpretation of the results:\n",
    "# The 90% confidence interval for the sample mean of 75, with a standard deviation of 12 and a sample size of your choice, would be a range of values within which we are 90% confident that the true population mean lies. This means that if you were to take many samples and calculate their confidence intervals, approximately 90% of those intervals would contain the true population mean. In simpler terms, you can be reasonably confident that the population mean falls between the lower and upper bounds of the calculated interval, given the provided sample data. The wider interval (compared to a 95% interval) reflects the higher level of confidence, which leads to a broader range of plausible values for the population mean."
   ]
  },
  {
   "cell_type": "code",
   "execution_count": 8,
   "id": "58d0160a-86a6-4e92-a53f-91fa6c65fe4b",
   "metadata": {},
   "outputs": [
    {
     "data": {
      "image/png": "[encoded data removed]",
      "text/plain": [
       "<Figure size 640x480 with 1 Axes>"
      ]
     },
     "metadata": {},
     "output_type": "display_data"
    }
   ],
   "source": [
    "# Q6. Use Python to plot the chi-square distribution with 10 degrees of freedom. Label the axes and shade the\n",
    "# area corresponding to a chi-square statistic of 15.\n",
    "\n",
    "\n",
    "import scipy.stats as stats\n",
    "import matplotlib.pyplot as plt\n",
    "import numpy as np\n",
    "\n",
    "# Degrees of freedom\n",
    "df = 10\n",
    "\n",
    "# Create a range of chi-square values\n",
    "x = np.linspace(0, 30, 500)\n",
    "\n",
    "# Calculate the chi-square probability density function (PDF)\n",
    "chi_square_pdf = stats.chi2.pdf(x, df)\n",
    "\n",
    "# Create the plot\n",
    "plt.plot(x, chi_square_pdf, label='Chi-Square PDF (df=10)')\n",
    "plt.fill_between(x, chi_square_pdf, where=(x <= 15), color='gray', alpha=0.5, label='Area (Chi-Square <= 15)')\n",
    "plt.xlabel('Chi-Square Value')\n",
    "plt.ylabel('Probability Density')\n",
    "plt.title('Chi-Square Distribution')\n",
    "plt.legend()\n",
    "plt.grid(True)\n",
    "plt.show()\n",
    "\n"
   ]
  },
  {
   "cell_type": "code",
   "execution_count": 9,
   "id": "961faffe-5489-4706-a838-f6a0c8e59647",
   "metadata": {},
   "outputs": [
    {
     "name": "stdout",
     "output_type": "stream",
     "text": [
      "99% Confidence Interval: (0.4793051576779699, 0.5606948423220302)\n"
     ]
    }
   ],
   "source": [
    "# Q7. A random sample of 1000 people was asked if they preferred Coke or Pepsi. Of the sample, 520\n",
    "# preferred Coke. Calculate a 99% confidence interval for the true proportion of people in the population who\n",
    "# prefer Coke.\n",
    "\n",
    "\n",
    "\n",
    "# To calculate the 99% confidence interval for the true proportion of people in the population who prefer Coke, you can use the formula for the confidence interval of a proportion. In this case, the sample proportion is 520/1000, and the sample size is 1000. Here's how you can do it using Python:\n",
    "\n",
    "\n",
    "import scipy.stats as stats\n",
    "import numpy as np\n",
    "\n",
    "# Given data\n",
    "sample_size = 1000\n",
    "sample_proportion = 520 / sample_size\n",
    "confidence_level = 0.99\n",
    "\n",
    "# Calculate the standard error\n",
    "standard_error = np.sqrt((sample_proportion * (1 - sample_proportion)) / sample_size)\n",
    "\n",
    "# Calculate the margin of error\n",
    "margin_of_error = stats.norm.ppf((1 + confidence_level) / 2) * standard_error\n",
    "\n",
    "# Calculate the confidence interval\n",
    "confidence_interval_lower = sample_proportion - margin_of_error\n",
    "confidence_interval_upper = sample_proportion + margin_of_error\n",
    "\n",
    "print(\"99% Confidence Interval:\", (confidence_interval_lower, confidence_interval_upper))\n",
    "\n",
    "\n",
    "# Interpretation of the results:\n",
    "# The 99% confidence interval for the true proportion of people in the population who prefer Coke would be interpreted as follows: We are 99% confident that the true proportion of people who prefer Coke in the population lies within the calculated interval. This means that if you were to repeat the survey many times and calculate confidence intervals for each sample, approximately 99% of those intervals would contain the true population proportion. In simpler terms, you can be very confident that the proportion of people who prefer Coke falls between the lower and upper bounds of the calculated interval, given the provided sample data. The higher confidence level (compared to a 95% interval) leads to a narrower interval, reflecting the increased level of confidence in the estimation."
   ]
  },
  {
   "cell_type": "code",
   "execution_count": 10,
   "id": "e93b083c-ebf0-406c-a33e-2a2d2f6ff863",
   "metadata": {},
   "outputs": [
    {
     "name": "stdout",
     "output_type": "stream",
     "text": [
      "Fail to reject the null hypothesis. The observed frequencies match the expected frequencies.\n",
      "Chi-Square Statistic: 1.0\n",
      "P-value: 0.31731050786291115\n"
     ]
    }
   ],
   "source": [
    "# Q8. A researcher hypothesizes that a coin is biased towards tails. They flip the coin 100 times and observe\n",
    "# 45 tails. Conduct a chi-square goodness of fit test to determine if the observed frequencies match the\n",
    "# expected frequencies of a fair coin. Use a significance level of 0.05.\n",
    "\n",
    "\n",
    "\n",
    "\n",
    "import scipy.stats as stats\n",
    "import numpy as np\n",
    "\n",
    "# Given data\n",
    "observed_frequencies = np.array([45, 55])  # 45 tails, 55 heads\n",
    "expected_frequencies = np.array([50, 50])  # Expected frequencies for a fair coin\n",
    "\n",
    "# Perform the chi-square goodness of fit test\n",
    "chi_square_statistic, p_value = stats.chisquare(observed_frequencies, expected_frequencies)\n",
    "\n",
    "# Set the significance level\n",
    "alpha = 0.05\n",
    "\n",
    "# Compare p-value to significance level\n",
    "if p_value < alpha:\n",
    "    print(\"Reject the null hypothesis. The observed frequencies do not match the expected frequencies.\")\n",
    "else:\n",
    "    print(\"Fail to reject the null hypothesis. The observed frequencies match the expected frequencies.\")\n",
    "\n",
    "print(\"Chi-Square Statistic:\", chi_square_statistic)\n",
    "print(\"P-value:\", p_value)\n"
   ]
  },
  {
   "cell_type": "code",
   "execution_count": 1,
   "id": "b53a8034-025c-472a-8463-f71ac3cec516",
   "metadata": {},
   "outputs": [
    {
     "name": "stdout",
     "output_type": "stream",
     "text": [
      "Reject the null hypothesis. There is a significant association between smoking status and lung cancer diagnosis.\n",
      "Chi-Square Statistic: 12.057347670250895\n",
      "P-value: 0.0005158863863703744\n"
     ]
    }
   ],
   "source": [
    "# Q9. A study was conducted to determine if there is an association between smoking status (smoker or\n",
    "# non-smoker) and lung cancer diagnosis (yes or no). The results are shown in the contingency table below.\n",
    "# Conduct a chi-square test for independence to determine if there is a significant association between\n",
    "# smoking status and lung cancer diagnosis.Q\n",
    "\n",
    "\n",
    "#             Lung   Cancer Yes   Luung Cancer No\n",
    "# Smoker    :   60                   140\n",
    "# Non Smoker:   30                   170\n",
    "# Use a significance level of 0.05.\n",
    "\n",
    "\n",
    "import scipy.stats as stats\n",
    "import numpy as np\n",
    "\n",
    "# Given data in the form of a contingency table\n",
    "observed_data = np.array([[60, 140],\n",
    "                          [30, 170]])\n",
    "\n",
    "# Perform the chi-square test for independence\n",
    "chi_square_statistic, p_value, _, _ = stats.chi2_contingency(observed_data)\n",
    "\n",
    "# Set the significance level\n",
    "alpha = 0.05\n",
    "\n",
    "# Compare p-value to significance level\n",
    "if p_value < alpha:\n",
    "    print(\"Reject the null hypothesis. There is a significant association between smoking status and lung cancer diagnosis.\")\n",
    "else:\n",
    "    print(\"Fail to reject the null hypothesis. There is no significant association between smoking status and lung cancer diagnosis.\")\n",
    "\n",
    "print(\"Chi-Square Statistic:\", chi_square_statistic)\n",
    "print(\"P-value:\", p_value)\n",
    "\n",
    "\n"
   ]
  },
  {
   "cell_type": "code",
   "execution_count": 3,
   "id": "3d81af61-a680-493c-972d-649f392a0a83",
   "metadata": {},
   "outputs": [
    {
     "name": "stdout",
     "output_type": "stream",
     "text": [
      "Reject the null hypothesis. There is a significant association between chocolate preference and country of origin.\n",
      "Chi-Square Statistic: 13.393665158371041\n",
      "P-value: 0.0012348168997745918\n"
     ]
    }
   ],
   "source": [
    "# Q10. A study was conducted to determine if the proportion of people who prefer milk chocolate, dark\n",
    "# chocolate, or white chocolate is different in the U.S. versus the U.K. A random sample of 500 people from\n",
    "# the U.S. and a random sample of 500 people from the U.K. were surveyed. The results are shown in the\n",
    "# contingency table below. Conduct a chi-square test for independence to determine if there is a significant\n",
    "# association between chocolate preference and country of origin.\n",
    "\n",
    "#               Milk Chocolate   Dark Chocolate   White Chocolate\n",
    "# U.S. (n=500)    200               150            150\n",
    "# U.K. (n=500)    225               175            100\n",
    "\n",
    "# Use a significance level of 0.01.\n",
    "\n",
    "import scipy.stats as stats\n",
    "import numpy as np\n",
    "\n",
    "# Given data in the form of a contingency table\n",
    "observed_data = np.array([[200, 150, 150],\n",
    "                          [225, 175, 100]])\n",
    "\n",
    "# Perform the chi-square test for independence\n",
    "chi_square_statistic, p_value, _, _ = stats.chi2_contingency(observed_data)\n",
    "\n",
    "# Set the significance level\n",
    "alpha = 0.01\n",
    "\n",
    "# Compare p-value to significance level\n",
    "if p_value < alpha:\n",
    "    print(\"Reject the null hypothesis. There is a significant association between chocolate preference and country of origin.\")\n",
    "else:\n",
    "    print(\"Fail to reject the null hypothesis. There is no significant association between chocolate preference and country of origin.\")\n",
    "\n",
    "print(\"Chi-Square Statistic:\", chi_square_statistic)\n",
    "print(\"P-value:\", p_value)\n"
   ]
  },
  {
   "cell_type": "code",
   "execution_count": 4,
   "id": "d50e1dfc-bb36-4315-afb1-fe8b8359b449",
   "metadata": {},
   "outputs": [
    {
     "name": "stdout",
     "output_type": "stream",
     "text": [
      "Fail to reject the null hypothesis. There is no significant difference from 70.\n",
      "T-score: 1.0954451150103321\n",
      "Critical t-value: 2.045229642132703\n",
      "P-value: 0.2823362372860698\n"
     ]
    }
   ],
   "source": [
    "# Q11. A random sample of 30 people was selected from a population with an unknown mean and standard\n",
    "# deviation. The sample mean was found to be 72 and the sample standard deviation was found to be 10.\n",
    "# Conduct a hypothesis test to determine if the population mean is significantly different from 70. Use a\n",
    "# significance level of 0.05.\n",
    "\n",
    "\n",
    "\n",
    "\n",
    "import scipy.stats as stats\n",
    "\n",
    "# Given data\n",
    "sample_mean = 72\n",
    "sample_std_dev = 10\n",
    "population_mean = 70\n",
    "sample_size = 30\n",
    "confidence_level = 0.95\n",
    "alpha = 1 - confidence_level\n",
    "\n",
    "# Calculate the t-score\n",
    "t_score = (sample_mean - population_mean) / (sample_std_dev / (sample_size ** 0.5))\n",
    "\n",
    "# Calculate the degrees of freedom\n",
    "degrees_of_freedom = sample_size - 1\n",
    "\n",
    "# Calculate the critical t-value for a two-tailed test\n",
    "critical_t_value = stats.t.ppf(1 - alpha / 2, df=degrees_of_freedom)\n",
    "\n",
    "# Perform the t-test\n",
    "p_value = 2 * (1 - stats.t.cdf(abs(t_score), df=degrees_of_freedom))\n",
    "\n",
    "# Compare p-value to significance level\n",
    "if p_value < alpha:\n",
    "    print(\"Reject the null hypothesis. The population mean is significantly different from 70.\")\n",
    "else:\n",
    "    print(\"Fail to reject the null hypothesis. There is no significant difference from 70.\")\n",
    "\n",
    "print(\"T-score:\", t_score)\n",
    "print(\"Critical t-value:\", critical_t_value)\n",
    "print(\"P-value:\", p_value)\n"
   ]
  },
  {
   "cell_type": "code",
   "execution_count": null,
   "id": "5ef04218-7999-40f0-adff-c385ab5eebf4",
   "metadata": {},
   "outputs": [],
   "source": []
  }
 ],
 "metadata": {
  "kernelspec": {
   "display_name": "Python 3 (ipykernel)",
   "language": "python",
   "name": "python3"
  },
  "language_info": {
   "codemirror_mode": {
    "name": "ipython",
    "version": 3
   },
   "file_extension": ".py",
   "mimetype": "text/x-python",
   "name": "python",
   "nbconvert_exporter": "python",
   "pygments_lexer": "ipython3",
   "version": "3.10.8"
  }
 },
 "nbformat": 4,
 "nbformat_minor": 5
}
