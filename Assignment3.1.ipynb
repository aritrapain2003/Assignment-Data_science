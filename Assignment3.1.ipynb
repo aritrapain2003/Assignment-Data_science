{
 "cells": [
  {
   "cell_type": "code",
   "execution_count": 2,
   "id": "b24fdf70-7bc8-4de9-aa4c-57e1344b7328",
   "metadata": {},
   "outputs": [
    {
     "name": "stdout",
     "output_type": "stream",
     "text": [
      "[1, 3, 5, 7, 9, 11, 13, 15, 17, 19, 21, 23, 25]\n"
     ]
    }
   ],
   "source": [
    "# Q1. Which keyword is used to create a function? Create a function to return a list of odd numbers in the\n",
    "# range of 1 to 25.\n",
    "\n",
    "# In Python, the keyword used to create a function is \"def\". \n",
    "\n",
    "def get_odd_numbers():\n",
    "    odd_numbers = []\n",
    "    for num in range(1, 26):\n",
    "        if num % 2 != 0:\n",
    "            odd_numbers.append(num)\n",
    "    return odd_numbers\n",
    "\n",
    "# Call the function\n",
    "result = get_odd_numbers()\n",
    "print(result)\n"
   ]
  },
  {
   "cell_type": "code",
   "execution_count": 4,
   "id": "74d0e29b-9ec4-4f73-9f0d-fbb07385bff0",
   "metadata": {},
   "outputs": [
    {
     "name": "stdout",
     "output_type": "stream",
     "text": [
      "15\n",
      "Hello, John!\n",
      "Hi, Jane!\n",
      "Hey, Alice!\n"
     ]
    }
   ],
   "source": [
    "# Q2. Why *args and **kwargs is used in some functions? Create a function each for *args and **kwargs\n",
    "\n",
    "# In Python, *args and **kwargs are used in function definitions to allow a variable number of arguments to be passed to the function.\n",
    "\n",
    "# The *args syntax is used to pass a variable number of non-keyworded arguments to a function. It allows you to pass any number of positional arguments, which are then treated as a tuple within the function. The name args is a convention, but you can use any name preceded by a single asterisk.\n",
    "\n",
    "def sum_numbers(*args):\n",
    "    total = 0\n",
    "    for num in args:\n",
    "        total += num\n",
    "    return total\n",
    "\n",
    "result = sum_numbers(1, 2, 3, 4, 5)\n",
    "print(result)  # Output: 15\n",
    "\n",
    "\n",
    "\n",
    "# In this example, the sum_numbers function takes any number of arguments and calculates their sum using a for loop. The *args parameter collects all the arguments passed to the function and treats them as a tuple. In this case, we pass five numbers (1, 2, 3, 4, and 5) to the function, and it returns the sum of those numbers.\n",
    "\n",
    "# Now, let's move on to **kwargs. It is used to pass a variable number of keyword arguments to a function. The double asterisks (**) before kwargs allow you to pass keyword arguments, which are then treated as a dictionary within the function. Like with args, the name kwargs is a convention, but you can use any name preceded by a double asterisk.\n",
    "\n",
    "# Here's an example of a function that demonstrates the use of **kwargs:\n",
    "def greet_people(**kwargs):\n",
    "    for name, greeting in kwargs.items():\n",
    "        print(f\"{greeting}, {name}!\")\n",
    "\n",
    "greet_people(John=\"Hello\", Jane=\"Hi\", Alice=\"Hey\")\n",
    "\n",
    "# In this example, the greet_people function takes keyword arguments and prints personalized greetings for each person. The **kwargs parameter collects the keyword arguments passed to the function and treats them as a dictionary. In this case, we pass three keyword arguments: John=\"Hello\", Jane=\"Hi\", and Alice=\"Hey\". The function then prints the corresponding greetings for each person.\n",
    "# By using **kwargs, you can pass a variable number of keyword arguments to a function, which gives you flexibility and allows you to handle different cases without explicitly defining all the possible arguments in the function's signature."
   ]
  },
  {
   "cell_type": "code",
   "execution_count": 8,
   "id": "2dd39188-d32c-4fcb-8182-041bd86d789d",
   "metadata": {},
   "outputs": [
    {
     "name": "stdout",
     "output_type": "stream",
     "text": [
      "2\n",
      "4\n",
      "6\n",
      "8\n",
      "10\n"
     ]
    }
   ],
   "source": [
    "# Q3. What is an iterator in python? Name the method used to initialise the iterator object and the method\n",
    "# used for iteration. Use these methods to print the first five elements of the given list [2, 4, 6, 8, 10, 12, 14,\n",
    "# 16, 18, 20].\n",
    "\n",
    "\n",
    "# In Python, an iterator is an object that represents a stream of data and allows iteration over that data. It provides a way to access the elements of a container (such as a list or a dictionary) one by one, without needing to know the specific implementation details of the container. Iterators are used to implement the iterable protocol, which allows objects to be iterated over using a for loop or other iteration constructs.\n",
    "\n",
    "# To initialize an iterator object, the iter() function is used. This function takes an iterable object as an argument and returns an iterator object. The iterator object keeps track of the current state of iteration and provides the next() method to retrieve the next element in the sequence.\n",
    "\n",
    "# To iterate over the elements of an iterator, the next() method is used. This method retrieves the next element from the iterator. When all elements have been retrieved, it raises a StopIteration exception. The for loop in Python internally handles the StopIteration exception and terminates the loop when it is encountered.\n",
    "\n",
    "my_list = [2, 4, 6, 8, 10, 12, 14, 16, 18, 20]\n",
    "my_iterator = iter(my_list)\n",
    "\n",
    "for _ in range(5):\n",
    "    element = next(my_iterator)\n",
    "    print(element)\n",
    "\n"
   ]
  },
  {
   "cell_type": "code",
   "execution_count": 9,
   "id": "efd3564a-dd50-4d36-b3a1-e3b11fd9b229",
   "metadata": {},
   "outputs": [
    {
     "name": "stdout",
     "output_type": "stream",
     "text": [
      "0\n",
      "2\n",
      "4\n",
      "6\n",
      "8\n"
     ]
    }
   ],
   "source": [
    "#  Q4. What is a generator function in python? Why yield keyword is used? Give an example of a generator function\n",
    "# In Python, a generator function is a special type of function that generates a sequence of values using the yield keyword. Unlike regular functions that use the return statement to return a value and terminate, generator functions can pause and resume their execution, allowing them to produce a series of values over time. Generator functions are used to create iterators, making it easy to iterate over large or infinite sequences without storing them in memory all at once.\n",
    "\n",
    "# The yield keyword is used in a generator function to define a point at which the function should pause its execution and yield a value to the caller. When a generator function is called, it returns a generator object that can be used to iterate over the generated values. Each time the generator's next() method is called, the function resumes execution from where it left off and continues until it encounters the next yield statement.\n",
    "\n",
    "def generate_even_numbers():\n",
    "    num = 0\n",
    "    while True:\n",
    "        yield num\n",
    "        num += 2\n",
    "\n",
    "# Create a generator object\n",
    "even_generator = generate_even_numbers()\n",
    "\n",
    "# Print the first five even numbers\n",
    "for _ in range(5):\n",
    "    print(next(even_generator))\n",
    "\n",
    "\n"
   ]
  },
  {
   "cell_type": "code",
   "execution_count": 10,
   "id": "9f70b16c-61f9-44c1-b87f-efc088cafbdc",
   "metadata": {},
   "outputs": [
    {
     "name": "stdout",
     "output_type": "stream",
     "text": [
      "2\n",
      "3\n",
      "5\n",
      "7\n",
      "11\n",
      "13\n",
      "17\n",
      "19\n",
      "23\n",
      "29\n",
      "31\n",
      "37\n",
      "41\n",
      "43\n",
      "47\n",
      "53\n",
      "59\n",
      "61\n",
      "67\n",
      "71\n"
     ]
    }
   ],
   "source": [
    "# Q5. Create a generator function for prime numbers less than 1000. Use the next() method to print the\n",
    "# first 20 prime numbers.\n",
    "\n",
    "def generate_prime_numbers():\n",
    "    primes = []\n",
    "    num = 2\n",
    "    while num < 1000:\n",
    "        is_prime = True\n",
    "        for prime in primes:\n",
    "            if num % prime == 0:\n",
    "                is_prime = False\n",
    "                break\n",
    "        if is_prime:\n",
    "            primes.append(num)\n",
    "            yield num\n",
    "        num += 1\n",
    "\n",
    "# Create a generator object\n",
    "prime_generator = generate_prime_numbers()\n",
    "\n",
    "# Print the first 20 prime numbers\n",
    "for _ in range(20):\n",
    "    print(next(prime_generator))\n",
    "\n"
   ]
  },
  {
   "cell_type": "code",
   "execution_count": 11,
   "id": "756d578d-1b24-4a76-9f10-25303fe3700f",
   "metadata": {},
   "outputs": [
    {
     "name": "stdout",
     "output_type": "stream",
     "text": [
      "0\n",
      "1\n",
      "1\n",
      "2\n",
      "3\n",
      "5\n",
      "8\n",
      "13\n",
      "21\n",
      "34\n"
     ]
    }
   ],
   "source": [
    "# Q6. Write a python program to print the first 10 Fibonacci numbers using a while loop.\n",
    "\n",
    "num1, num2 = 0, 1\n",
    "count = 0\n",
    "\n",
    "while count < 10:\n",
    "    print(num1)\n",
    "    nth = num1 + num2\n",
    "    num1 = num2\n",
    "    num2 = nth\n",
    "    count += 1\n"
   ]
  },
  {
   "cell_type": "code",
   "execution_count": 12,
   "id": "1c027609-6086-4f55-92bd-c239d8aef728",
   "metadata": {},
   "outputs": [
    {
     "name": "stdout",
     "output_type": "stream",
     "text": [
      "['p', 'w', 's', 'k', 'i', 'l', 'l', 's']\n"
     ]
    }
   ],
   "source": [
    "# Q7. Write a List Comprehension to iterate through the given string: ‘pwskills’.\n",
    "# Expected output: ['p', 'w', 's', 'k', 'i', 'l', 'l', 's']\n",
    "\n",
    "string = 'pwskills'\n",
    "output = [char for char in string]\n",
    "\n",
    "print(output)\n"
   ]
  },
  {
   "cell_type": "code",
   "execution_count": 14,
   "id": "16ff81b7-0e70-4de0-ac80-145bfde1b4ad",
   "metadata": {},
   "outputs": [
    {
     "name": "stdin",
     "output_type": "stream",
     "text": [
      "Enter a number:  1331\n"
     ]
    },
    {
     "name": "stdout",
     "output_type": "stream",
     "text": [
      "The number is a palindrome.\n"
     ]
    }
   ],
   "source": [
    "# Q8. Write a python program to check whether a given number is Palindrome or not using a while loop.\n",
    "\n",
    "number = int(input(\"Enter a number: \"))\n",
    "original_number = number\n",
    "reverse = 0\n",
    "\n",
    "while number > 0:\n",
    "    digit = number % 10\n",
    "    reverse = reverse * 10 + digit\n",
    "    number //= 10\n",
    "\n",
    "if original_number == reverse:\n",
    "    print(\"The number is a palindrome.\")\n",
    "else:\n",
    "    print(\"The number is not a palindrome.\")\n"
   ]
  },
  {
   "cell_type": "code",
   "execution_count": null,
   "id": "b0a3917b-d55c-4584-821e-c191bce67639",
   "metadata": {},
   "outputs": [],
   "source": []
  }
 ],
 "metadata": {
  "kernelspec": {
   "display_name": "Python 3 (ipykernel)",
   "language": "python",
   "name": "python3"
  },
  "language_info": {
   "codemirror_mode": {
    "name": "ipython",
    "version": 3
   },
   "file_extension": ".py",
   "mimetype": "text/x-python",
   "name": "python",
   "nbconvert_exporter": "python",
   "pygments_lexer": "ipython3",
   "version": "3.10.8"
  }
 },
 "nbformat": 4,
 "nbformat_minor": 5
}
