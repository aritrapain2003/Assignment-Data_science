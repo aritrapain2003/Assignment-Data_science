{
 "cells": [
  {
   "cell_type": "code",
   "execution_count": 2,
   "id": "ef348d99-b540-4314-992c-e39a1c4c8120",
   "metadata": {},
   "outputs": [],
   "source": [
    "# Q1. Create one variable containing following type of data:\n",
    "# (i) string\n",
    "# (ii) list\n",
    "# (iii) float\n",
    "# (iv) tuple  in python\n",
    "\n",
    "# (i) String\n",
    "my_string = \"Hello, World!\"\n",
    "\n",
    "# (ii) List\n",
    "my_list = [1, 2, 3, 4, 5]\n",
    "\n",
    "# (iii) Float\n",
    "my_float = 3.14\n",
    "\n",
    "# (iv) Tuple\n",
    "my_tuple = (1, \"two\", 3.0, [4, 5])\n"
   ]
  },
  {
   "cell_type": "code",
   "execution_count": null,
   "id": "bd4613ac-0e4a-4f15-90d7-8e83ea5a73b0",
   "metadata": {},
   "outputs": [],
   "source": [
    "Q2. Given are some following variables containing data:\n",
    "(i) var1 = ‘ ‘\n",
    "(ii) var2 = ‘[ DS , ML , Python]’\n",
    "(iii) var3 = [ ‘DS’ , ’ML’ , ‘Python’ ]\n",
    "(iv) var4 = 1.\n",
    "\n",
    "\n",
    "\n",
    "In Python, the data types of the given variables are as follows:\n",
    "\n",
    "(i) var1 is a string variable. The data type of var1 is str.\n",
    "\n",
    "(ii) var2 is a string variable. The data type of var2 is also str. The value assigned to var2 is a string representation of a list, but it is still stored as a string.\n",
    "\n",
    "(iii) var3 is a list variable. The data type of var3 is list. It contains three string elements.\n",
    "\n",
    "(iv) var4 is an integer variable. The data type of var4 is int. It stores the value 1, which is an integer.\n",
    "\n",
    "To summarize:\n",
    "\n",
    "var1 is a string (str).\n",
    "var2 is a string (str).\n",
    "var3 is a list (list).\n",
    "var4 is an integer (int).\n"
   ]
  },
  {
   "cell_type": "code",
   "execution_count": 10,
   "id": "a62af966-5562-4501-9be4-3a230d6df4ab",
   "metadata": {},
   "outputs": [
    {
     "name": "stdout",
     "output_type": "stream",
     "text": [
      "3.3333333333333335\n",
      "1\n",
      "3\n",
      "8\n"
     ]
    }
   ],
   "source": [
    "# Q3. Explain the use of the following operators using an example:\n",
    "# (i) /\n",
    "# (ii) %\n",
    "# (iii) //\n",
    "# (iv) ** in python\n",
    "\n",
    "# (i) / (Division Operator):\n",
    "# The division operator / is used to perform division between two numbers in Python. It returns the quotient of the division as a floating-point number.\n",
    "a = 10\n",
    "b = 3\n",
    "\n",
    "result = a / b\n",
    "print(result)\n",
    "# In the above example, a is divided by b, and the result is 3.3333333333333335, which is a floating-point number.\n",
    "\n",
    "# (ii) % (Modulo Operator):\n",
    "# The modulo operator % is used to find the remainder of the division between two numbers in Python.\n",
    "\n",
    "a = 10\n",
    "b = 3\n",
    "\n",
    "result = a % b\n",
    "print(result)\n",
    "# In the above example, a is divided by b, and the remainder is 1.\n",
    "\n",
    "# (iii) // (Floor Division Operator):\n",
    "# The floor division operator // is used to perform integer division between two numbers in Python. It returns the quotient without the decimal part, rounded down to the nearest integer.\n",
    "\n",
    "a = 10\n",
    "b = 3\n",
    "\n",
    "result = a // b\n",
    "print(result)\n",
    "# In the above example, a is divided by b, and the result is 3, which is the integer part of the division without the decimal.\n",
    "\n",
    "# (iv) ** (Exponentiation Operator):\n",
    "# The exponentiation operator ** is used to raise a number to a power in Python.\n",
    "c = 2\n",
    "d = 3\n",
    "\n",
    "result = c ** d\n",
    "print(result)\n",
    "# In the above example, a raised to the power of b is 8.\n",
    "\n",
    "# These operators are commonly used in mathematical operations and calculations in Python.\n"
   ]
  },
  {
   "cell_type": "code",
   "execution_count": 14,
   "id": "11b03ebb-11ec-4cb1-973e-0bcf25c5b79b",
   "metadata": {},
   "outputs": [
    {
     "name": "stdout",
     "output_type": "stream",
     "text": [
      "10  -  <class 'int'>\n",
      "Hello  -  <class 'str'>\n",
      "3.14  -  <class 'float'>\n",
      "True  -  <class 'bool'>\n",
      "[1, 2, 3]  -  <class 'list'>\n",
      "{'name': 'John', 'age': 25}  -  <class 'dict'>\n",
      "(1, 2, 3)  -  <class 'tuple'>\n",
      "None  -  <class 'NoneType'>\n",
      "A  -  <class 'str'>\n",
      "False  -  <class 'bool'>\n"
     ]
    }
   ],
   "source": [
    "# Q4. Create a list of length 10 of your choice containing multiple types of data. Using for loop print the\n",
    "# element and its data type.\n",
    "\n",
    "my_list = [10, \"Hello\", 3.14, True, [1, 2, 3], {\"name\": \"John\", \"age\": 25}, (1, 2, 3), None, 'A', False]\n",
    "\n",
    "for element in my_list:\n",
    "    print(element, \" - \", type(element))\n",
    "\n",
    "# In the above example, we have created a list called my_list with elements of different types, including integers, strings, floats, booleans, lists, dictionaries, tuples, None, and characters. The for loop iterates over each element in the list, and type(element) is used to determine the data type of each element. The element and its corresponding data type are printed on each iteration of the loop.\n"
   ]
  },
  {
   "cell_type": "code",
   "execution_count": 15,
   "id": "e63935ee-3494-46af-b483-26ac3f8d540b",
   "metadata": {},
   "outputs": [
    {
     "name": "stdout",
     "output_type": "stream",
     "text": [
      "Number of times 4 can divide 30.0 is 1\n"
     ]
    }
   ],
   "source": [
    "Q5. Using a while loop, verify if the number A is purely divisible by number B and if so then how many\n",
    "times it can be divisible.\n",
    "\n",
    "\n",
    "\n",
    "\n",
    "A = 120\n",
    "B = 4\n",
    "\n",
    "count = 0\n",
    "\n",
    "while A % B == 0:\n",
    "    A = A / B\n",
    "    count += 1\n",
    "\n",
    "print(\"Number of times\", B, \"can divide\", A, \"is\", count)\n",
    "\n",
    "\n",
    "\n",
    "# In the above example, we have initialized A to be 120 and B to be 4. The while loop checks if A is divisible by B (i.e., A % B == 0). If it is, A is divided by B and the count is incremented. This process continues until A is no longer divisible by B. Finally, the number of times B can divide the resulting value of A is printed.\n",
    "\n",
    "# In this case, 4 can divide 120 three times, resulting in the value 1.25."
   ]
  },
  {
   "cell_type": "code",
   "execution_count": 17,
   "id": "7a5de8fd-433a-4ac1-b849-bef7af48bbd8",
   "metadata": {},
   "outputs": [
    {
     "name": "stdout",
     "output_type": "stream",
     "text": [
      "5 is not divisible by 3\n",
      "12 is divisible by 3\n",
      "8 is not divisible by 3\n",
      "9 is divisible by 3\n",
      "15 is divisible by 3\n",
      "21 is divisible by 3\n",
      "30 is divisible by 3\n",
      "14 is not divisible by 3\n",
      "18 is divisible by 3\n",
      "25 is not divisible by 3\n",
      "27 is divisible by 3\n",
      "33 is divisible by 3\n",
      "40 is not divisible by 3\n",
      "47 is not divisible by 3\n",
      "51 is divisible by 3\n",
      "54 is divisible by 3\n",
      "60 is divisible by 3\n",
      "66 is divisible by 3\n",
      "72 is divisible by 3\n",
      "78 is divisible by 3\n",
      "81 is divisible by 3\n",
      "88 is not divisible by 3\n",
      "91 is not divisible by 3\n",
      "99 is divisible by 3\n",
      "105 is divisible by 3\n"
     ]
    }
   ],
   "source": [
    "Q6. Create a list containing 25 int type data. Using for loop and if-else condition print if the element is\n",
    "divisible by 3 or not.\n",
    "\n",
    "\n",
    "my_list = [5, 12, 8, 9, 15, 21, 30, 14, 18, 25, 27, 33, 40, 47, 51, 54, 60, 66, 72, 78, 81, 88, 91, 99, 105]\n",
    "\n",
    "for element in my_list:\n",
    "    if element % 3 == 0:\n",
    "        print(element, \"is divisible by 3\")\n",
    "    else:\n",
    "        print(element, \"is not divisible by 3\")\n"
   ]
  },
  {
   "cell_type": "code",
   "execution_count": 20,
   "id": "2fba6a29-8d93-49be-809d-6af141638237",
   "metadata": {},
   "outputs": [
    {
     "ename": "SyntaxError",
     "evalue": "unterminated string literal (detected at line 36) (1391735227.py, line 36)",
     "output_type": "error",
     "traceback": [
      "\u001b[0;36m  Cell \u001b[0;32mIn[20], line 36\u001b[0;36m\u001b[0m\n\u001b[0;31m    Here's an example demonstrating the mutability of the list data type:\u001b[0m\n\u001b[0m        ^\u001b[0m\n\u001b[0;31mSyntaxError\u001b[0m\u001b[0;31m:\u001b[0m unterminated string literal (detected at line 36)\n"
     ]
    }
   ],
   "source": [
    "# Q7. What do you understand about mutable and immutable data types? Give examples for both showing\n",
    "# this property.\n",
    "\n",
    "In Python, data types can be categorized as either mutable or immutable based on whether their values can be changed after they are created.\n",
    "\n",
    "Immutable Data Types:\n",
    "Immutable data types are those whose values cannot be modified after they are created. If you try to modify an immutable object, a new object will be created with the updated value.\n",
    "\n",
    "Examples of immutable data types in Python include:\n",
    "\n",
    "int (integer)\n",
    "float (floating-point number)\n",
    "str (string)\n",
    "tuple\n",
    "frozenset\n",
    "\n",
    "\n",
    "# string = \"Hello\"\n",
    "\n",
    "# # Attempt to modify the string\n",
    "# string[0] = \"W\"  # Raises a TypeError: 'str' object does not support item assignment\n",
    "\n",
    "# print(string)\n",
    "\n",
    "\n",
    "In the above example, we attempt to modify the first character of the string \"Hello\" by assigning a new value to string[0]. However, this operation raises a TypeError because strings are immutable in Python.\n",
    "\n",
    "Mutable Data Types:\n",
    "Mutable data types, on the other hand, allow for modifications to their values after they are created. This means that the object itself can be modified without creating a new object.\n",
    "\n",
    "Examples of mutable data types in Python include:\n",
    "\n",
    "list\n",
    "dict (dictionary\n",
    "set\n",
    "Here's an example demonstrating the mutability of the list data type:\n",
    "      \n",
    "\n",
    "my_list = [1, 2, 3]\n",
    "\n",
    "# Modify the list by appending a new element\n",
    "my_list.append(4)\n",
    "\n",
    "print(my_list)\n",
    "\n",
    "\n",
    "\n",
    "\n",
    "\n",
    "\n",
    "\n"
   ]
  },
  {
   "cell_type": "code",
   "execution_count": null,
   "id": "de10a4b3-4831-4ba8-bf87-423c6cb267df",
   "metadata": {},
   "outputs": [],
   "source": []
  }
 ],
 "metadata": {
  "kernelspec": {
   "display_name": "Python 3 (ipykernel)",
   "language": "python",
   "name": "python3"
  },
  "language_info": {
   "codemirror_mode": {
    "name": "ipython",
    "version": 3
   },
   "file_extension": ".py",
   "mimetype": "text/x-python",
   "name": "python",
   "nbconvert_exporter": "python",
   "pygments_lexer": "ipython3",
   "version": "3.10.8"
  }
 },
 "nbformat": 4,
 "nbformat_minor": 5
}
